{
 "cells": [
  {
   "cell_type": "code",
   "execution_count": null,
   "metadata": {},
   "outputs": [
    {
     "name": "stdout",
     "output_type": "stream",
     "text": [
      "Нетривиальный делитель числа 1359331: 1151\n"
     ]
    },
    {
     "ename": "",
     "evalue": "",
     "output_type": "error",
     "traceback": [
      "\u001b[1;31mThe Kernel crashed while executing code in the current cell or a previous cell. \n",
      "\u001b[1;31mPlease review the code in the cell(s) to identify a possible cause of the failure. \n",
      "\u001b[1;31mClick <a href='https://aka.ms/vscodeJupyterKernelCrash'>here</a> for more info. \n",
      "\u001b[1;31mView Jupyter <a href='command:jupyter.viewOutput'>log</a> for further details."
     ]
    }
   ],
   "source": [
    "from math import gcd\n",
    "\n",
    "def pollards_rho(n, c=1):\n",
    "\n",
    "    def f(x): \n",
    "        return (x**2 + c) % n\n",
    "\n",
    "    a = 2  \n",
    "    b = 2 \n",
    "    \n",
    "    while True:\n",
    "        a = f(a)                # a = f(a)\n",
    "        b = f(f(b))             # b = f(f(b))\n",
    "        d = gcd(abs(a - b), n)  # НОД(a - b, n)\n",
    "        \n",
    "        if d == n:              # Если делитель равен n\n",
    "            return None         # Делитель не найден\n",
    "        elif d > 1:             # Если найден нетривиальный делитель\n",
    "            return d            # Вернуть делитель\n",
    "\n",
    "\n",
    "n = 1359331  \n",
    "result = pollards_rho(n)\n",
    "\n",
    "if result:\n",
    "    print(f\"Нетривиальный делитель числа {n}: {result}\")\n",
    "else:\n",
    "    print(f\"Делитель для числа {n} не найден\")\n"
   ]
  },
  {
   "cell_type": "code",
   "execution_count": 8,
   "metadata": {},
   "outputs": [],
   "source": [
    "the_dict = {\"Россия\": \"Москва\", \"Япония\": \"Токио\", \"Италия\": \"Рим\"}\n",
    "the_dict[\"Франция\"] = \"Париж\""
   ]
  }
 ],
 "metadata": {
  "kernelspec": {
   "display_name": "NewEnv",
   "language": "python",
   "name": "python3"
  },
  "language_info": {
   "codemirror_mode": {
    "name": "ipython",
    "version": 3
   },
   "file_extension": ".py",
   "mimetype": "text/x-python",
   "name": "python",
   "nbconvert_exporter": "python",
   "pygments_lexer": "ipython3",
   "version": "3.12.5"
  }
 },
 "nbformat": 4,
 "nbformat_minor": 2
}
