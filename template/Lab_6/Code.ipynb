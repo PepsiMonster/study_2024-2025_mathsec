{
 "cells": [
  {
   "cell_type": "code",
   "execution_count": 1,
   "metadata": {},
   "outputs": [
    {
     "name": "stdout",
     "output_type": "stream",
     "text": [
      "Нетривиальный делитель числа 1359331: 1151\n"
     ]
    }
   ],
   "source": [
    "from math import gcd\n",
    "\n",
    "def pollards_rho(n, c=1):\n",
    "\n",
    "    def f(x): \n",
    "        return (x**2 + c) % n\n",
    "\n",
    "    a = 2  \n",
    "    b = 2 \n",
    "    \n",
    "    while True:\n",
    "        a = f(a)                # a = f(a)\n",
    "        b = f(f(b))             # b = f(f(b))\n",
    "        d = gcd(abs(a - b), n)  # НОД(a - b, n)\n",
    "        \n",
    "        if d == n:              # Если делитель равен n\n",
    "            return None         # Делитель не найден\n",
    "        elif d > 1:             # Если найден нетривиальный делитель\n",
    "            return d            # Вернуть делитель\n",
    "\n",
    "\n",
    "n = 1359331  \n",
    "result = pollards_rho(n)\n",
    "\n",
    "if result:\n",
    "    print(f\"Нетривиальный делитель числа {n}: {result}\")\n",
    "else:\n",
    "    print(f\"Делитель для числа {n} не найден\")\n"
   ]
  }
 ],
 "metadata": {
  "kernelspec": {
   "display_name": "NewEnv",
   "language": "python",
   "name": "python3"
  },
  "language_info": {
   "codemirror_mode": {
    "name": "ipython",
    "version": 3
   },
   "file_extension": ".py",
   "mimetype": "text/x-python",
   "name": "python",
   "nbconvert_exporter": "python",
   "pygments_lexer": "ipython3",
   "version": "3.12.5"
  }
 },
 "nbformat": 4,
 "nbformat_minor": 2
}
