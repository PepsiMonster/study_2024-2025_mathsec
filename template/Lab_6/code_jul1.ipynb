{
 "cells": [
  {
   "cell_type": "code",
   "execution_count": 1,
   "metadata": {},
   "outputs": [],
   "source": [
    "using Printf\n",
    "using Random"
   ]
  },
  {
   "cell_type": "code",
   "execution_count": 16,
   "metadata": {},
   "outputs": [
    {
     "name": "stdout",
     "output_type": "stream",
     "text": [
      "Нетрививальный делитель числа 1359330907: 67\n"
     ]
    }
   ],
   "source": [
    "function pollards_rho(n::Int,c::Int=1)\n",
    "\n",
    "    f(x) = mod(x^2 + c, n)\n",
    "    a = rand(1:n-1)\n",
    "    b = a \n",
    "\n",
    "    while true\n",
    "        a = f(a)                    # a = f(a)\n",
    "        b = f(f(b))                 # b = f(f(b))\n",
    "        d = gcd(abs(a - b), n)      # НОД(a - b, n)\n",
    "        if d == n               # Если делитель равен n\n",
    "            return nothing      # Делитель не найден\n",
    "        elseif d > 1            # Если найден нетривиальный делитель\n",
    "            return d            # Вернуть делитель\n",
    "        end\n",
    "    end\n",
    "end\n",
    "\n",
    "n = 1359330907 \n",
    "result = pollards_rho(n)\n",
    "if result !== nothing\n",
    "    @printf(\"Нетрививальный делитель числа %d: %d\\n\", n, result)\n",
    "else\n",
    "    println(\"Нетрививальный делитель числа $n не найден\")\n",
    "end"
   ]
  }
 ],
 "metadata": {
  "kernelspec": {
   "display_name": "Julia 1.10.5",
   "language": "julia",
   "name": "julia-1.10"
  },
  "language_info": {
   "file_extension": ".jl",
   "mimetype": "application/julia",
   "name": "julia",
   "version": "1.10.5"
  }
 },
 "nbformat": 4,
 "nbformat_minor": 2
}
