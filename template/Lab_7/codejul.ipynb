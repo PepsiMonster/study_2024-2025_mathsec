{
 "cells": [
  {
   "cell_type": "code",
   "execution_count": 2,
   "metadata": {},
   "outputs": [
    {
     "name": "stdout",
     "output_type": "stream",
     "text": [
      "x = 23\n",
      "a^x mod p =9, тогда как b = 64\n"
     ]
    }
   ],
   "source": [
    "p = 107\n",
    "a = 10\n",
    "b = 64\n",
    "r = 53\n",
    "function invmod(x,m)\n",
    "    g, s, t = gcdx(x,m)\n",
    "    if g != 1\n",
    "        error(\"Обратного элемента не существует\")\n",
    "    end\n",
    "    return mod(x, m)\n",
    "end\n",
    "\n",
    "function f_partition(c,u,v,a,b,p,r)\n",
    "    if c < 53\n",
    "        c = mod(a*c,p)\n",
    "        u = mod(u+1,r)\n",
    "    else\n",
    "        c = mod(b*c, p)\n",
    "        v = mod(v+1, r)\n",
    "    end\n",
    "    return c, u, v\n",
    "end\n",
    "\n",
    "function pollard_log(a, b, p, r, f_partition)\n",
    "    u = 2\n",
    "    v = 2\n",
    "    c = mod((a^u % p)*(b^v % p), p)\n",
    "\n",
    "    U = u \n",
    "    V = v \n",
    "    d = c \n",
    "\n",
    "    while true \n",
    "        c, u, v = f_partition(c, u, v, a, b, p, r)\n",
    "        d, U, V = f_partition(d, U, V, a, b, p, r)\n",
    "        d, U, V = f_partition(d, U, V, a, b, p, r)\n",
    "\n",
    "        if c == d \n",
    "            diff_u = mod(u - U, r)\n",
    "            diff_v = mod(V - v, r)\n",
    "\n",
    "            if diff_v == 0\n",
    "                return nothing\n",
    "            end\n",
    "\n",
    "            inv_v = invmod(diff_v, r)\n",
    "            x = mod(diff_u * inv_v, r)\n",
    "            return x \n",
    "        end \n",
    "    end \n",
    "end\n",
    "\n",
    "x = pollard_log(a, b, p, r, f_partition)\n",
    "\n",
    "if x == nothing\n",
    "    println(\"Решение не найдено\")\n",
    "else \n",
    "    println(\"x = \", x)\n",
    "    check = a^x % p \n",
    "    println(\"a^x mod p =\", check, \", тогда как b = \", b)\n",
    "end"
   ]
  }
 ],
 "metadata": {
  "kernelspec": {
   "display_name": "Julia 1.10.5",
   "language": "julia",
   "name": "julia-1.10"
  },
  "language_info": {
   "file_extension": ".jl",
   "mimetype": "application/julia",
   "name": "julia",
   "version": "1.10.5"
  }
 },
 "nbformat": 4,
 "nbformat_minor": 2
}
