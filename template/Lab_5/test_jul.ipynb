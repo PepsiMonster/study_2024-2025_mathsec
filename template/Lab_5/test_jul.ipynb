{
 "cells": [
  {
   "cell_type": "code",
   "execution_count": 1,
   "metadata": {},
   "outputs": [],
   "source": [
    "using Random"
   ]
  },
  {
   "cell_type": "code",
   "execution_count": 4,
   "metadata": {},
   "outputs": [
    {
     "data": {
      "text/plain": [
       "is_prime (generic function with 2 methods)"
      ]
     },
     "metadata": {},
     "output_type": "display_data"
    }
   ],
   "source": [
    "n = 20\n",
    "function is_prime(n::Int,k::Int=5)\n",
    "    if n < 5 || n%2 == 0\n",
    "        return false\n",
    "    end\n",
    "    for _ in 1:k\n",
    "        a = rand(2:n-2)    \n",
    "        r = powermod(a,n-1,n)\n",
    "        if r != 1\n",
    "            return false\n",
    "        end\n",
    "    end\n",
    "    return true\n",
    "end"
   ]
  },
  {
   "cell_type": "code",
   "execution_count": 5,
   "metadata": {},
   "outputs": [
    {
     "name": "stdout",
     "output_type": "stream",
     "text": [
      "Число 20 составное\n"
     ]
    }
   ],
   "source": [
    "if is_prime(n)\n",
    "    println(\"Число $n скорее всего простое\")\n",
    "else\n",
    "    println(\"Число $n составное\")\n",
    "end"
   ]
  },
  {
   "cell_type": "code",
   "execution_count": 6,
   "metadata": {},
   "outputs": [
    {
     "data": {
      "text/plain": [
       "16"
      ]
     },
     "metadata": {},
     "output_type": "display_data"
    }
   ],
   "source": [
    "n = 19\n",
    "a = rand(0:n)"
   ]
  },
  {
   "cell_type": "code",
   "execution_count": 9,
   "metadata": {},
   "outputs": [
    {
     "data": {
      "text/plain": [
       "jacobi_symbol (generic function with 1 method)"
      ]
     },
     "metadata": {},
     "output_type": "display_data"
    }
   ],
   "source": [
    "function jacobi_symbol(a::Int, n::Int)\n",
    "    g = 1\n",
    "    if a == 0\n",
    "        return 0\n",
    "    end\n",
    "    if a == 1\n",
    "        return g\n",
    "    end\n",
    "    while a != 0\n",
    "        k = 0\n",
    "        while a % 2 == 0\n",
    "            a ÷= 2\n",
    "            k += 1\n",
    "        end\n",
    "        a1 = a\n",
    "        if k % 2 == 0\n",
    "            s = 1\n",
    "        else\n",
    "            if n % 8 == 1 || n % 8 == 7\n",
    "                s = 1\n",
    "            elseif n % 8 == 3 || n % 8 == 5\n",
    "                s = -1\n",
    "            end\n",
    "        end\n",
    "        g *= s\n",
    "        if a1 == 1\n",
    "            return g\n",
    "        end\n",
    "        if n % 4 == 3 && a1 % 4 == 3\n",
    "            g = -g\n",
    "        end\n",
    "        a, n = n % a1, a1\n",
    "    end\n",
    "    return g\n",
    "end\n"
   ]
  },
  {
   "cell_type": "code",
   "execution_count": 10,
   "metadata": {},
   "outputs": [
    {
     "name": "stdout",
     "output_type": "stream",
     "text": [
      "Символ Якоби (16/19) = 1\n"
     ]
    }
   ],
   "source": [
    "result = jacobi_symbol(a, n)\n",
    "println(\"Символ Якоби ($a/$n) = $result\")"
   ]
  },
  {
   "cell_type": "code",
   "execution_count": null,
   "metadata": {},
   "outputs": [],
   "source": [
    "n = 27"
   ]
  },
  {
   "cell_type": "code",
   "execution_count": 14,
   "metadata": {},
   "outputs": [
    {
     "data": {
      "text/plain": [
       "test_solovei_strassen (generic function with 1 method)"
      ]
     },
     "metadata": {},
     "output_type": "display_data"
    }
   ],
   "source": [
    "function test_solovei_strassen(n::Int)\n",
    "    a = rand(2:n-2)\n",
    "    n_1 = (n-1)/2\n",
    "    r = powermod(a, n_1, n) # power(a, (n-1)/2, n)\n",
    "    if r != 1 && r !=(n-1)\n",
    "        return false\n",
    "    end\n",
    "    s = jacobi_symbol(a,n)\n",
    "    if r == s%n\n",
    "        return true\n",
    "    else\n",
    "        return false\n",
    "    end\n",
    "end"
   ]
  },
  {
   "cell_type": "code",
   "execution_count": 16,
   "metadata": {},
   "outputs": [
    {
     "name": "stdout",
     "output_type": "stream",
     "text": [
      "Число 19 скорее всего простое\n"
     ]
    }
   ],
   "source": [
    "if is_prime(n)\n",
    "    println(\"Число $n скорее всего простое\")\n",
    "else\n",
    "    println(\"Число $n не является простым\")\n",
    "end"
   ]
  },
  {
   "cell_type": "code",
   "execution_count": 17,
   "metadata": {},
   "outputs": [
    {
     "data": {
      "text/plain": [
       "19"
      ]
     },
     "metadata": {},
     "output_type": "display_data"
    }
   ],
   "source": [
    "n = 19"
   ]
  },
  {
   "cell_type": "code",
   "execution_count": 22,
   "metadata": {},
   "outputs": [
    {
     "data": {
      "text/plain": [
       "test_miller_rabin (generic function with 2 methods)"
      ]
     },
     "metadata": {},
     "output_type": "display_data"
    }
   ],
   "source": [
    "function test_miller_rabin(n::Int, k::Int=5)\n",
    "    s = 0\n",
    "    r = n - 1\n",
    "    while r % 2 == 0\n",
    "        r ÷= 2\n",
    "        s += 1\n",
    "    end\n",
    "\n",
    "    for _ in 1:k\n",
    "        a = rand(2:n-2)\n",
    "        y = powermod(a, r, n)\n",
    "\n",
    "        if y == 1 || y == n - 1\n",
    "            continue\n",
    "        end\n",
    "\n",
    "        for j in 1:s-1\n",
    "            y = powermod(y, 2, n)\n",
    "            if y == 1\n",
    "                return false\n",
    "            end\n",
    "            if y == n - 1\n",
    "                break\n",
    "            end\n",
    "        end\n",
    "\n",
    "        if y != n - 1\n",
    "            return false\n",
    "        end\n",
    "    end\n",
    "    return true\n",
    "end"
   ]
  },
  {
   "cell_type": "code",
   "execution_count": 23,
   "metadata": {},
   "outputs": [
    {
     "name": "stdout",
     "output_type": "stream",
     "text": [
      "Число 19 вероятно простое\n"
     ]
    }
   ],
   "source": [
    "if test_miller_rabin(n)\n",
    "    println(\"Число $n вероятно простое\")\n",
    "else\n",
    "    println(\"Число $n составное\")\n",
    "end"
   ]
  }
 ],
 "metadata": {
  "kernelspec": {
   "display_name": "Julia 1.10.5",
   "language": "julia",
   "name": "julia-1.10"
  },
  "language_info": {
   "file_extension": ".jl",
   "mimetype": "application/julia",
   "name": "julia",
   "version": "1.10.5"
  }
 },
 "nbformat": 4,
 "nbformat_minor": 2
}
