{
 "cells": [
  {
   "cell_type": "markdown",
   "metadata": {},
   "source": [
    "## Алгоритм, реализующий тест Ферма"
   ]
  },
  {
   "cell_type": "code",
   "execution_count": 25,
   "metadata": {},
   "outputs": [],
   "source": [
    "from random import randint\n",
    "n = 19                      # Число на  проверку"
   ]
  },
  {
   "cell_type": "code",
   "execution_count": 26,
   "metadata": {},
   "outputs": [],
   "source": [
    "def is_prime(n,k=5):\n",
    "    if n < 5 or n%2==0:\n",
    "        return False\n",
    "    for i in range(k): \n",
    "        a = randint(2,n-2)    \n",
    "        r = (a**(n-1))%n # еще можно r = pow(a,n-1,n)\n",
    "        if r != 1:\n",
    "            return False\n",
    "    return True"
   ]
  },
  {
   "cell_type": "code",
   "execution_count": 27,
   "metadata": {},
   "outputs": [
    {
     "name": "stdout",
     "output_type": "stream",
     "text": [
      "Число 19 скорее всего простое\n"
     ]
    }
   ],
   "source": [
    "if is_prime(n):\n",
    "    print(f\"Число {n} скорее всего простое\")\n",
    "else:\n",
    "    print(f\"Число {n} не является простым\")"
   ]
  },
  {
   "cell_type": "markdown",
   "metadata": {},
   "source": [
    "## Алгоритм вычисления символа Якоби"
   ]
  },
  {
   "cell_type": "code",
   "execution_count": null,
   "metadata": {},
   "outputs": [],
   "source": [
    "n = 19\n",
    "a = randint(0,n)"
   ]
  },
  {
   "cell_type": "code",
   "execution_count": 38,
   "metadata": {},
   "outputs": [],
   "source": [
    "def jacobi_symbol(a, n):\n",
    "    g = 1\n",
    "    if a == 0:\n",
    "        return 0  # Символ Якоби (0/n) = 0\n",
    "    if a == 1:\n",
    "        return g  # Символ Якоби (1/n) = g\n",
    "    while a != 0:\n",
    "        # Шаг 4: представляем a как 2^k * a1, где a1 нечётное\n",
    "        k = 0\n",
    "        while a % 2 == 0:\n",
    "            a //= 2\n",
    "            k += 1 \n",
    "        a1 = a  # Теперь a1 нечётное\n",
    "        # Шаг 5: при чётном k положить s = 1, при нечётном k выполнить условие\n",
    "        if k % 2 == 0:\n",
    "            s = 1\n",
    "        else:\n",
    "            if n % 8 == 1 or n % 8 == 7:\n",
    "                s = 1\n",
    "            elif n % 8 == 3 or n % 8 == 5:\n",
    "                s = -1\n",
    "        g *= s\n",
    "        # Шаг 6\n",
    "        if a1 == 1:\n",
    "            return g\n",
    "        # Шаг 7\n",
    "        if n % 4 == 3 and a1 % 4 == 3:\n",
    "            g = -g\n",
    "        # Шаг 8: полагаем a = n mod a1, n = a1, g = g * s и возвращаемся к шагу 2\n",
    "        a = n % a1\n",
    "        n = a1\n",
    "    return g"
   ]
  },
  {
   "cell_type": "code",
   "execution_count": 39,
   "metadata": {},
   "outputs": [
    {
     "name": "stdout",
     "output_type": "stream",
     "text": [
      "Символ Якоби (13/19) = -1\n"
     ]
    }
   ],
   "source": [
    "result = jacobi_symbol(a, n)\n",
    "print(f\"Символ Якоби ({a}/{n}) = {result}\")"
   ]
  },
  {
   "cell_type": "markdown",
   "metadata": {},
   "source": [
    "## Тест Соловея-Штрассена"
   ]
  },
  {
   "cell_type": "code",
   "execution_count": 60,
   "metadata": {},
   "outputs": [],
   "source": [
    "n = 27\n",
    "def test_solovei_strassen(n):\n",
    "    a = randint(2,n-2)\n",
    "    r = (a**((n-1)/2))%n\n",
    "    if r != 1 and r !=(n-1):\n",
    "        return False\n",
    "    s = jacobi_symbol(a,n)\n",
    "    if r == s%n:\n",
    "        return True\n",
    "    else:\n",
    "        return False"
   ]
  },
  {
   "cell_type": "code",
   "execution_count": 61,
   "metadata": {},
   "outputs": [
    {
     "name": "stdout",
     "output_type": "stream",
     "text": [
      "27 - составное\n"
     ]
    }
   ],
   "source": [
    "result = test_solovei_strassen(n)\n",
    "if result == True:\n",
    "    print(f\"{n} веротяно простое\")\n",
    "else:\n",
    "    print(f\"{n} - составное\")"
   ]
  },
  {
   "cell_type": "markdown",
   "metadata": {},
   "source": [
    "## Алгоритм, реализующий тест Миллера-Рабина"
   ]
  },
  {
   "cell_type": "code",
   "execution_count": null,
   "metadata": {},
   "outputs": [],
   "source": [
    "n = 5\n",
    "def test_miller_rabin(n,k=5):\n",
    "    s = 0 \n",
    "    r = n-1\n",
    "    while r % 2 == 0:   \n",
    "        r //= 2\n",
    "        s += 1\n",
    "\n",
    "    for _ in range(k):      \n",
    "        a = randint(2, n - 2) # Выбираем случайное значение a\n",
    "        y = (a**r)%n # Вычисляем y = a^r % n (a**r)%n\n",
    "\n",
    "        if y == 1 or y == n - 1: # Если y == 1 или y == n - 1, переходим к следующей итерации\n",
    "            continue        \n",
    "               \n",
    "        for j in range(1, s): # Иначе начинаем проверку с j = 1            \n",
    "            y = (y**2)%n       # Вычисляем y = y^2 % n    (y**2)%n\n",
    "            if y == 1:  # Если y == 1, то n составное\n",
    "                return False            \n",
    "            if y == n - 1:  # Если y == n - 1, переходим к следующей итерации основного цикла\n",
    "                break\n",
    "        else:            \n",
    "            return False  # Если мы не встретили y == n - 1 в цикле, то n составное\n",
    "    \n",
    "    return True  # Если все проверки пройдены, n вероятно простое"
   ]
  },
  {
   "cell_type": "code",
   "execution_count": 63,
   "metadata": {},
   "outputs": [
    {
     "name": "stdout",
     "output_type": "stream",
     "text": [
      "Число 19 вероятно простое\n"
     ]
    }
   ],
   "source": [
    "n = 19\n",
    "if test_miller_rabin(n):\n",
    "    print(f\"Число {n} вероятно простое\")\n",
    "else:\n",
    "    print(f\"Число {n} составное\")"
   ]
  }
 ],
 "metadata": {
  "kernelspec": {
   "display_name": "NewEnv",
   "language": "python",
   "name": "python3"
  },
  "language_info": {
   "codemirror_mode": {
    "name": "ipython",
    "version": 3
   },
   "file_extension": ".py",
   "mimetype": "text/x-python",
   "name": "python",
   "nbconvert_exporter": "python",
   "pygments_lexer": "ipython3",
   "version": "3.12.5"
  }
 },
 "nbformat": 4,
 "nbformat_minor": 2
}
