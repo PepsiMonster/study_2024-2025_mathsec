{
 "cells": [
  {
   "cell_type": "markdown",
   "metadata": {},
   "source": [
    "**ЛАБОРАТОРНАЯ РАБОТА №8**  \n",
    "**Целочисленная арифметика многократной точности**  \n",
    "\n",
    "В данной работе рассмотрим алгоритмы для выполнения арифметических операций с большими целыми числами. Будем считать, что число записано в *b*-ичной системе счисления, *b* — натуральное число, *b ≥ 2*. Натуральное *b*-разрядное число будем записывать в виде:\n",
    "\n",
    "**u = u₁u₂...uₙ.**\n",
    "\n",
    "При работе с большими целыми числами знак такого числа удобно хранить в отдельной переменной. Например, при умножении двух чисел, знак произведения вычисляется отдельно. Квадратные скобки обозначают, что берется целая часть числа.\n",
    "\n"
   ]
  },
  {
   "cell_type": "code",
   "execution_count": 74,
   "metadata": {},
   "outputs": [
    {
     "data": {
      "text/plain": [
       "10"
      ]
     },
     "metadata": {},
     "output_type": "display_data"
    }
   ],
   "source": [
    "u = \"123456789012345\"\n",
    "v = \"987654321098765\"\n",
    "b = 10\n"
   ]
  },
  {
   "cell_type": "code",
   "execution_count": 75,
   "metadata": {},
   "outputs": [
    {
     "data": {
      "text/plain": [
       "digits_to_number_func (generic function with 1 method)"
      ]
     },
     "metadata": {},
     "output_type": "display_data"
    }
   ],
   "source": [
    "\n",
    "function remove_leading_zeros(number::Vector{Int})\n",
    "    while length(number) > 1 && number[1] == 0\n",
    "        popfirst!(number)\n",
    "    end\n",
    "    return number\n",
    "end\n",
    "\n",
    "\n",
    "function compare(u::Vector{Int}, v::Vector{Int})::Int\n",
    "    u = remove_leading_zeros(copy(u))\n",
    "    v = remove_leading_zeros(copy(v))\n",
    "    \n",
    "    if length(u) > length(v)\n",
    "        return 1\n",
    "    elseif length(u) < length(v)\n",
    "        return -1\n",
    "    else\n",
    "        for (digit_u, digit_v) in zip(u, v)\n",
    "            if digit_u > digit_v\n",
    "                return 1\n",
    "            elseif digit_u < digit_v\n",
    "                return -1\n",
    "            end\n",
    "        end\n",
    "        return 0\n",
    "    end\n",
    "end\n",
    "\n",
    "\n",
    "function pad_with_leading_zeros(u::Vector{Int}, v::Vector{Int})::Tuple{Vector{Int}, Vector{Int}}\n",
    "    max_len = max(length(u), length(v))\n",
    "    u_padded = vcat(zeros(Int, max_len - length(u)), u)\n",
    "    v_padded = vcat(zeros(Int, max_len - length(v)), v)\n",
    "    return (u_padded, v_padded)\n",
    "end\n",
    "\n",
    "function number_to_digits(number::Union{String, Int})::Vector{Int}\n",
    "    if isa(number, Int)\n",
    "        number = string(number)\n",
    "    elseif isa(number, String)\n",
    "        if !all(c -> isdigit(c), number)\n",
    "            error(\"Число должно содержать только цифры.\")\n",
    "        end\n",
    "    else\n",
    "        error(\"Число должно быть строкой или целым числом.\")\n",
    "    end\n",
    "    return [parse(Int, string(c)) for c in number]\n",
    "end\n",
    "\n",
    "function digits_to_number(digits::Vector{Int})::String\n",
    "    return join(string.(digits))\n",
    "end\n",
    "function number_to_digits_func(number::Union{String, Int})::Vector{Int}\n",
    "    return number_to_digits(number)\n",
    "end\n",
    "\n",
    "function digits_to_number_func(digits::Vector{Int})::String\n",
    "    return digits_to_number(digits)\n",
    "end"
   ]
  },
  {
   "cell_type": "markdown",
   "metadata": {},
   "source": [
    "### Алгоритм 1 (сложение неотрицательных целых чисел)\n",
    "\n",
    "**Вход.** Два неотрицательных числа **u = u₁u₂...uₙ** и **v = v₁v₂...vₙ**; разрядность чисел *n*; основание системы счисления *b*.  \n",
    "**Выход.** Сумма **w = w₀w₁...wₙ**, где **w₀** — цифра переноса — всегда равная 0 либо 1.\n",
    "\n",
    "1. Присвоить **j := n, k := 0** (j идет по разрядам, k следит за переносом).  \n",
    "2. Присвоить **wⱼ = (uⱼ + vⱼ + k) (mod b)**, где **wⱼ** — наименьший неотрицательный вычет в данном классе вычетов;  \n",
    "   **k = ⌊(uⱼ + vⱼ + k) / b⌋.**  \n",
    "3. Присвоить **j := j − 1**. Если **j > 0**, то возвращаемся на шаг 2; если **j = 0**, то присвоить **w₀ := k** и результат: **w**."
   ]
  },
  {
   "cell_type": "code",
   "execution_count": 76,
   "metadata": {},
   "outputs": [
    {
     "data": {
      "text/plain": [
       "add (generic function with 1 method)"
      ]
     },
     "metadata": {},
     "output_type": "display_data"
    }
   ],
   "source": [
    "function add(u::Vector{Int}, v::Vector{Int}, b::Int)::Vector{Int}\n",
    "    u_padded, v_padded = pad_with_leading_zeros(u,v)\n",
    "    n = length(u_padded)\n",
    "    w = zeros(Int, n+1)\n",
    "    k = 0 \n",
    "\n",
    "    for j in n:-1:1\n",
    "        total = u_padded[j] + v_padded[j] + k\n",
    "        w[j+1] = total % b\n",
    "        k = div(total,b)\n",
    "    end\n",
    "    w[1] = k \n",
    "    return w \n",
    "end"
   ]
  },
  {
   "cell_type": "code",
   "execution_count": 77,
   "metadata": {},
   "outputs": [
    {
     "name": "stdout",
     "output_type": "stream",
     "text": [
      "u = 123456789012345\n",
      "v = 987654321098765\n",
      "w = 1111111110111110\n"
     ]
    }
   ],
   "source": [
    "u_num  = \"123456789012345\"\n",
    "v_num = \"987654321098765\"\n",
    "b = 10\n",
    "u = number_to_digits_func(u_num)\n",
    "v = number_to_digits_func(v_num)\n",
    "sum_result = add(u, v, b)\n",
    "sum_str = digits_to_number_func(sum_result)\n",
    "println(\"u = $u_num\")\n",
    "println(\"v = $v_num\")\n",
    "println(\"w = $sum_str\")"
   ]
  },
  {
   "cell_type": "markdown",
   "metadata": {},
   "source": [
    "### Алгоритм 2 (вычитание неотрицательных целых чисел)\n",
    "\n",
    "**Вход.** Два неотрицательных числа **u = u₁u₂...uₙ** и **v = v₁v₂...vₙ**, **u > v**; разрядность чисел *n*; основание системы счисления *b*.  \n",
    "**Выход.** Разность **w = w₁w₂...wₙ = u − v.**\n",
    "\n",
    "1. Присвоить **j := n, k := 0** (k — заем из старшего разряда).\n",
    "\n",
    "\n",
    "\n",
    "2. Присвоить **wⱼ = (uⱼ − vⱼ + k) (mod b)**, где **wⱼ** — наименьший неотрицательный вычет в данном классе вычетов;  \n",
    "   **k = ⌊(uⱼ − vⱼ + k) / b⌋.**\n",
    "\n",
    "3. Присвоить **j := j − 1**. Если **j > 0**, то возвращаемся на шаг 2; если **j = 0**, то результат: **w**."
   ]
  },
  {
   "cell_type": "code",
   "execution_count": 78,
   "metadata": {},
   "outputs": [
    {
     "data": {
      "text/plain": [
       "subtract (generic function with 1 method)"
      ]
     },
     "metadata": {},
     "output_type": "display_data"
    }
   ],
   "source": [
    "function subtract(u::Vector{Int}, v::Vector{Int}, b::Int)::Vector{Int}\n",
    "    u_padded, v_padded = pad_with_leading_zeros(u, v)\n",
    "    n = length(u_padded)\n",
    "    w = zeros(Int, n)\n",
    "    k = 0\n",
    "\n",
    "    for j in n:-1:1\n",
    "        diff = u_padded[j] - v_padded[j] + k \n",
    "        if diff < 0\n",
    "            diff += b\n",
    "            k = -1\n",
    "        else\n",
    "            k = 0\n",
    "        end\n",
    "        w[j] = diff \n",
    "    end\n",
    "    return remove_leading_zeros(w)\n",
    "end"
   ]
  },
  {
   "cell_type": "code",
   "execution_count": 79,
   "metadata": {},
   "outputs": [
    {
     "name": "stdout",
     "output_type": "stream",
     "text": [
      "u = 987654321098765\n",
      "v = 123456789012345\n",
      "w = 1111111110111110\n"
     ]
    }
   ],
   "source": [
    "u_num  = \"987654321098765\"\n",
    "v_num = \"123456789012345\"\n",
    "b = 10\n",
    "u = number_to_digits_func(u_num)\n",
    "v = number_to_digits_func(v_num)\n",
    "diff_result = subtract(u, v, b)\n",
    "diff_str = digits_to_number_func(sum_result)\n",
    "println(\"u = $u_num\")\n",
    "println(\"v = $v_num\")\n",
    "println(\"w = $sum_str\")\n"
   ]
  },
  {
   "cell_type": "markdown",
   "metadata": {},
   "source": [
    "### Алгоритм 3 (умножение неотрицательных целых чисел столбиком)\n",
    "\n",
    "**Вход.** Числа **u = u₁u₂...uₙ, v = v₁v₂...vₘ**; основание системы счисления *b*.  \n",
    "**Выход.** Произведение **w = uv = w₁w₂...wₙ₊ₘ**.\n",
    "\n",
    "1. Выполнить присвоения:  \n",
    "   **wₘ₊₁ := 0, wₘ := 0, ..., w₁ := 0**, **j := m**  \n",
    "   (j перемещается по номерам разрядов числа **v** от младших к старшим).\n",
    "\n",
    "2. Если **vⱼ = 0**, то присвоить **wⱼ := 0** и перейти на шаг 6.\n",
    "\n",
    "3. Присвоить **i := n, k := 0** (Значение **i** идет по номерам разрядов числа **u**, **k** отвечает за перенос).\n",
    "\n",
    "4. Присвоить  \n",
    "   **t := uᵢ ⋅ vⱼ + wᵢ₊ⱼ + k, wᵢ₊ⱼ := t (mod b), k := ⌊t / b⌋**,  \n",
    "   где **wᵢ₊ⱼ** — наименьший неотрицательный вычет в данном классе вычетов.\n",
    "\n",
    "5. Присвоить **i := i − 1**. Если **i > 0**, то возвращаемся на шаг 4, иначе присвоить **wⱼ := k**.\n",
    "\n",
    "6. Присвоить **j := j − 1**. Если **j > 0**, то вернуться на шаг 2. Если **j = 0**, то результат: **w**."
   ]
  },
  {
   "cell_type": "code",
   "execution_count": 80,
   "metadata": {},
   "outputs": [
    {
     "data": {
      "text/plain": [
       "multiply_long (generic function with 1 method)"
      ]
     },
     "metadata": {},
     "output_type": "display_data"
    }
   ],
   "source": [
    "function multiply_long(u::Vector{Int}, v::Vector{Int}, b::Int)::Vector{Int}\n",
    "    n = length(u)\n",
    "    m = length(v)\n",
    "    w = zeros(Int, n + m)\n",
    "\n",
    "    for j in m:-1:1\n",
    "        carry = 0\n",
    "        for i in n:-1:1\n",
    "            t = u[i] * v[j] + w[i + j] + carry\n",
    "            w[i + j] = t % b\n",
    "            carry = div(t, b)\n",
    "        end\n",
    "        w[j] += carry\n",
    "    end\n",
    "\n",
    "    return remove_leading_zeros(w)\n",
    "end"
   ]
  },
  {
   "cell_type": "code",
   "execution_count": 81,
   "metadata": {},
   "outputs": [
    {
     "name": "stdout",
     "output_type": "stream",
     "text": [
      "u = 123456789012345\n",
      "v = 678901234567890\n",
      "w = 83814966476268537645950602050\n"
     ]
    }
   ],
   "source": [
    "u_num = \"123456789012345\"\n",
    "v_num = \"678901234567890\"\n",
    "u = number_to_digits_func(u_num)\n",
    "v = number_to_digits_func(v_num)\n",
    "product_long = multiply_long(u, v, b)\n",
    "product_long_str = digits_to_number_func(product_long)\n",
    "println(\"u = $u_num\")\n",
    "println(\"v = $v_num\")\n",
    "println(\"w = $product_long_str\")"
   ]
  },
  {
   "cell_type": "markdown",
   "metadata": {},
   "source": [
    "### Алгоритм 4 (быстрый столбик)\n",
    "\n",
    "**Вход.** Числа **u = u₁u₂...uₙ, v = v₁v₂...vₘ**; основание системы счисления *b*.  \n",
    "**Выход.** Произведение **w = uv = w₁w₂...wₙ₊ₘ**.\n",
    "\n",
    "1. Присвоить **t := 0**.\n",
    "\n",
    "2. Для **s от 0 до n + m − 1 с шагом 1** выполнить шаги 3 и 4.\n",
    "\n",
    "3. Для **t = 0** до **n** выполнить присвоение  \n",
    "   **t := t + uₙ₋ₛ₊ₜ ⋅ vₘ₋ₜ₊ₛ**.\n",
    "\n",
    "4. Вычислить  \n",
    "   **wₛ₊₁ := t (mod b), t := ⌊t / b⌋**,  \n",
    "   где **wₛ₊₁** — наименьший неотрицательный вычет по модулю *b*.  \n",
    "   Результат: **w**."
   ]
  },
  {
   "cell_type": "code",
   "execution_count": 82,
   "metadata": {},
   "outputs": [
    {
     "data": {
      "text/plain": [
       "multiply_fast (generic function with 1 method)"
      ]
     },
     "metadata": {},
     "output_type": "display_data"
    }
   ],
   "source": [
    "function multiply_fast(u::Vector{Int}, v::Vector{Int}, b::Int)::Vector{Int}\n",
    "    n = length(u)\n",
    "    m = length(v)\n",
    "    w = zeros(Int, n + m)\n",
    "\n",
    "    for s in (n + m):-1:1\n",
    "        t = 0\n",
    "        for t_idx in 1:n\n",
    "            v_idx = s - t_idx + 1\n",
    "            if v_idx >= 1 && v_idx <= m\n",
    "                t += u[n - t_idx + 1] * v[m - v_idx + 1]\n",
    "            end\n",
    "        end\n",
    "        w[s] += t\n",
    "        carry = div(w[s], b)\n",
    "        w[s] = mod(w[s], b)\n",
    "        if s > 1\n",
    "            w[s - 1] += carry\n",
    "        end\n",
    "    end\n",
    "\n",
    "    return remove_leading_zeros(w)\n",
    "end"
   ]
  },
  {
   "cell_type": "code",
   "execution_count": 83,
   "metadata": {},
   "outputs": [
    {
     "name": "stdout",
     "output_type": "stream",
     "text": [
      "u = 123456789012345\n",
      "v = 678901234567890\n",
      "w = 536504679225115307111781741960\n",
      "\n"
     ]
    }
   ],
   "source": [
    "product_fast = multiply_fast(u, v, b)\n",
    "product_fast_str = digits_to_number_func(product_fast)\n",
    "println(\"u = $u_num\")\n",
    "println(\"v = $v_num\")\n",
    "println(\"w = $product_fast_str\")\n",
    "println()"
   ]
  },
  {
   "cell_type": "markdown",
   "metadata": {},
   "source": [
    "### Алгоритм 5 (деление многоразрядных целых чисел)\n",
    "\n",
    "**Вход.** Числа **u = uₙ...u₁u₀, v = vₜ...v₁v₀**, **n ≥ t ≥ 1, vₜ ≠ 0**, разрядность чисел соответственно **n** и **t**.  \n",
    "**Выход.** Частное **q = qₙ₋ₜ...q₀**, остаток **r = rₜ...r₀**.\n",
    "\n",
    "1. Для **j** от 0 до **n − t** присвоить **qⱼ := 0**.\n",
    "\n",
    "2. Пока **u ≥ v bⁿ⁻ᵗ**, выполнять:  \n",
    "   **qₙ₋ₜ := qₙ₋ₜ + 1, u := u − v bⁿ⁻ᵗ.**\n",
    "\n",
    "3. Для **i := n, n − 1, ..., t + 1** выполнять пункты 3.1 – 3.4:  \n",
    "   **3.1.** Если **uᵢ ≥ vₜ**, то присвоить  \n",
    "   **qᵢ₋ₜ₋₁ := b − 1**,  \n",
    "   иначе присвоить  \n",
    "   **qᵢ₋ₜ₋₁ := ⌊(uᵢb + uᵢ₋₁) / vₜ⌋.**  \n",
    "\n",
    "   **3.2.** Пока  \n",
    "   **qᵢ₋ₜ₋₁(vₜb + vₜ₋₁) > uᵢb² + uᵢ₋₁b + uᵢ₋₂**,  \n",
    "   выполнять  \n",
    "   **qᵢ₋ₜ₋₁ := qᵢ₋ₜ₋₁ − 1.**\n",
    "\n",
    "   **3.3.** Присвоить  \n",
    "   **u := u − qᵢ₋ₜ₋₁v bⁱ⁻ᵗ⁻¹.**\n",
    "\n",
    "   **3.4.** Если **u < 0**, то присвоить  \n",
    "   **u := u + v bⁱ⁻ᵗ⁻¹, qᵢ₋ₜ₋₁ := qᵢ₋ₜ₋₁ − 1.**\n",
    "\n",
    "4. **r := u.**  \n",
    "Результат: **q и r.**"
   ]
  },
  {
   "cell_type": "code",
   "execution_count": 84,
   "metadata": {},
   "outputs": [
    {
     "data": {
      "text/plain": [
       "divide (generic function with 1 method)"
      ]
     },
     "metadata": {},
     "output_type": "display_data"
    }
   ],
   "source": [
    "function divide(u::Vector{Int}, v::Vector{Int}, b::Int)::Tuple{Vector{Int}, Vector{Int}}\n",
    "    if compare(v, [0]) == 0\n",
    "        error(\"Деление на ноль невозможно.\")\n",
    "    end\n",
    "\n",
    "    if compare(u, v) < 0\n",
    "        return ([0], copy(u))\n",
    "    end\n",
    "\n",
    "    n = length(u)\n",
    "    t_len = length(v)\n",
    "    q = zeros(Int, n - t_len + 1)\n",
    "    u_copy = copy(u)\n",
    "\n",
    "    for i in 1:(n - t_len + 1)\n",
    "        start = i\n",
    "        end_idx = i + t_len - 1\n",
    "        if end_idx > length(u_copy)\n",
    "            current = [0]\n",
    "        else\n",
    "            current = u_copy[start:end_idx]\n",
    "        end\n",
    "        current = remove_leading_zeros(current)\n",
    "        if length(current) < t_len\n",
    "            current = vcat(zeros(Int, t_len - length(current)), current)\n",
    "        end\n",
    "\n",
    "        if current[1] < v[1]\n",
    "            q_digit = 0\n",
    "        else\n",
    "            q_digit = div(current[1], v[1])\n",
    "            q_digit = min(q_digit, b - 1)\n",
    "        end\n",
    "\n",
    "        while true\n",
    "            v_times_q = multiply_long(v, [q_digit], b)\n",
    "            v_times_q = vcat(v_times_q, zeros(Int, length(current) - length(v_times_q)))\n",
    "            cmp = compare(v_times_q, current)\n",
    "            if cmp > 0\n",
    "                q_digit -= 1\n",
    "            else\n",
    "                break\n",
    "            end\n",
    "            if q_digit == 0\n",
    "                break\n",
    "            end\n",
    "        end\n",
    "\n",
    "        v_times_q = multiply_long(v, [q_digit], b)\n",
    "        v_times_q = vcat(v_times_q, zeros(Int, length(current) - length(v_times_q)))\n",
    "        current = subtract(current, v_times_q, b)\n",
    "\n",
    "        u_copy[start:end_idx] = current\n",
    "        q[i] = q_digit\n",
    "    end\n",
    "\n",
    "    q = remove_leading_zeros(q)\n",
    "    r = remove_leading_zeros(u_copy)\n",
    "    return (q, r)\n",
    "end"
   ]
  },
  {
   "cell_type": "code",
   "execution_count": 85,
   "metadata": {},
   "outputs": [
    {
     "ename": "DimensionMismatch",
     "evalue": "DimensionMismatch: tried to assign 1 elements to 15 destinations",
     "output_type": "error",
     "traceback": [
      "DimensionMismatch: tried to assign 1 elements to 15 destinations\n",
      "\n",
      "Stacktrace:\n",
      " [1] throw_setindex_mismatch(X::Vector{Int64}, I::Tuple{Int64})\n",
      "   @ Base .\\indices.jl:191\n",
      " [2] setindex_shape_check\n",
      "   @ .\\indices.jl:245 [inlined]\n",
      " [3] setindex!\n",
      "   @ .\\array.jl:1052 [inlined]\n",
      " [4] divide(u::Vector{Int64}, v::Vector{Int64}, b::Int64)\n",
      "   @ Main c:\\Users\\kotof\\MathSec\\study_2024-2025_mathsec\\template\\Lab_8\\jl_notebook_cell_df34fa98e69747e1a8f8a730347b8e2f_X22sZmlsZQ==.jl:53\n",
      " [5] top-level scope\n",
      "   @ c:\\Users\\kotof\\MathSec\\study_2024-2025_mathsec\\template\\Lab_8\\jl_notebook_cell_df34fa98e69747e1a8f8a730347b8e2f_X23sZmlsZQ==.jl:5"
     ]
    }
   ],
   "source": [
    "u_num = \"1234567890123456789012345\"\n",
    "v_num = \"123456789012345\"\n",
    "u = number_to_digits_func(u_num)\n",
    "v = number_to_digits_func(v_num)\n",
    "quotient, remainder = divide(u, v, b)\n",
    "quotient_str = digits_to_number_func(quotient)\n",
    "remainder_str = digits_to_number_func(remainder)\n",
    "println(\"u = $u_num\")\n",
    "println(\"v = $v_num\")\n",
    "println(\"q = $quotient_str\")\n",
    "println(\"r = $remainder_str\")"
   ]
  }
 ],
 "metadata": {
  "kernelspec": {
   "display_name": "Julia 1.10.5",
   "language": "julia",
   "name": "julia-1.10"
  },
  "language_info": {
   "file_extension": ".jl",
   "mimetype": "application/julia",
   "name": "julia",
   "version": "1.10.5"
  }
 },
 "nbformat": 4,
 "nbformat_minor": 2
}
