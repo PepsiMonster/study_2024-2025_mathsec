{
 "cells": [
  {
   "cell_type": "markdown",
   "metadata": {},
   "source": [
    "**Алгоритм Евклида**"
   ]
  },
  {
   "cell_type": "code",
   "execution_count": 1,
   "metadata": {},
   "outputs": [
    {
     "name": "stdout",
     "output_type": "stream",
     "text": [
      "6\n"
     ]
    }
   ],
   "source": [
    "a = 4567890\n",
    "b = 462\n",
    "\n",
    "function euclidian_algorithm(a,b)\n",
    "    if a<b\n",
    "        a,b=b,a\n",
    "    end\n",
    "    r_0 = a\n",
    "    r_1 = b \n",
    "    while true\n",
    "        r_next= r_0 % r_1\n",
    "        if r_next == 0\n",
    "            return r_1\n",
    "        end\n",
    "        r_0 = r_1\n",
    "        r_1 = r_next\n",
    "    end\n",
    "end\n",
    "\n",
    "println(euclidian_algorithm(a,b))"
   ]
  },
  {
   "cell_type": "markdown",
   "metadata": {},
   "source": [
    "**Бинарный алгоритм Евклида**"
   ]
  },
  {
   "cell_type": "code",
   "execution_count": 2,
   "metadata": {},
   "outputs": [
    {
     "name": "stdout",
     "output_type": "stream",
     "text": [
      "11\n"
     ]
    }
   ],
   "source": [
    "a = 678908890\n",
    "b = 2937\n",
    "\n",
    "function euclidian_binary(a,b)\n",
    "    if a<b\n",
    "        a,b=b,a\n",
    "    end\n",
    "    g = 1\n",
    "    while a%2==0 && b%2==0\n",
    "        a = div(a,2)\n",
    "        b = div(a,2)\n",
    "        g*= 2\n",
    "    end\n",
    "    u = a \n",
    "    v = b\n",
    "    while u!=0\n",
    "        while u%2==0\n",
    "            u = div(u,2)\n",
    "        end\n",
    "        while v%2==0\n",
    "            v = div(v,2)\n",
    "        end\n",
    "        if u>=v\n",
    "            u -= v \n",
    "        else\n",
    "            v -= u\n",
    "        end \n",
    "    end\n",
    "    d = g*v\n",
    "    return d\n",
    "end\n",
    "\n",
    "println(euclidian_binary(a,b))"
   ]
  },
  {
   "cell_type": "markdown",
   "metadata": {},
   "source": [
    "**Расширенный алгоритм Евклида**"
   ]
  },
  {
   "cell_type": "code",
   "execution_count": 3,
   "metadata": {},
   "outputs": [
    {
     "name": "stdout",
     "output_type": "stream",
     "text": [
      "(1, 18011, -1508269599)\n"
     ]
    }
   ],
   "source": [
    "a = 3984759347\n",
    "b = 47584\n",
    "\n",
    "function euclidian_ext(a,b)\n",
    "    if a<b\n",
    "        a,b=b,a\n",
    "    end\n",
    "    r_0 = a\n",
    "    r_1 = b\n",
    "    x_0=1 # a*x + b*y = d (НОД(a,b))\n",
    "    x_1=0 \n",
    "    y_0=0\n",
    "    y_1=1\n",
    "    while r_1!=0\n",
    "        q = div(r_0,r_1)\n",
    "        r_next = r_0 - q*r_1 # НОД(r_0,r_1)\n",
    "        r_0 = r_1\n",
    "        r_1 = r_next\n",
    "\n",
    "        x_next = x_0 - q*x_1\n",
    "        x_0 = x_1\n",
    "        x_1 = x_next\n",
    "\n",
    "        y_next = y_0-q*y_1\n",
    "        y_0 = y_1\n",
    "        y_1 = y_next\n",
    "    end \n",
    "    d = r_0\n",
    "    x = x_0\n",
    "    y = y_0\n",
    "    return d, x, y\n",
    "end\n",
    "println(euclidian_ext(a,b))"
   ]
  },
  {
   "cell_type": "markdown",
   "metadata": {},
   "source": [
    "**Проверка**"
   ]
  },
  {
   "cell_type": "code",
   "execution_count": 4,
   "metadata": {},
   "outputs": [
    {
     "name": "stdout",
     "output_type": "stream",
     "text": [
      "1\n"
     ]
    }
   ],
   "source": [
    "d, x, y = euclidian_ext(a,b)\n",
    "check = a*x+b*y\n",
    "println(check)"
   ]
  },
  {
   "cell_type": "markdown",
   "metadata": {},
   "source": [
    "**Бинарный расширенный алгоритм Евклида**"
   ]
  },
  {
   "cell_type": "code",
   "execution_count": 5,
   "metadata": {},
   "outputs": [
    {
     "name": "stdout",
     "output_type": "stream",
     "text": [
      "(512, 0, 1)\n"
     ]
    }
   ],
   "source": [
    "a = 1024\n",
    "b = 512\n",
    "\n",
    "function euclidean_ext_bin(a, b)\n",
    "    if a < b\n",
    "        a, b = b, a\n",
    "    end\n",
    "    g = 1\n",
    "    while a % 2 == 0 && b % 2 == 0\n",
    "        a = div(a, 2)\n",
    "        b = div(b, 2)\n",
    "        g *= 2\n",
    "    end\n",
    "    u = a\n",
    "    v = b\n",
    "    A = 1\n",
    "    B = 0\n",
    "    C = 0\n",
    "    D = 1\n",
    "    while u != 0\n",
    "        while u % 2 == 0\n",
    "            u = div(u, 2)\n",
    "            if A % 2 == 0 && B % 2 == 0\n",
    "                A = div(A, 2)\n",
    "                B = div(B, 2)\n",
    "            else\n",
    "                A = div(A + b, 2)\n",
    "                B = div(B - a, 2)\n",
    "            end\n",
    "        end\n",
    "        while v % 2 == 0\n",
    "            v = div(v, 2)\n",
    "            if C % 2 == 0 && D % 2 == 0\n",
    "                C = div(C, 2)\n",
    "                D = div(D, 2)\n",
    "            else\n",
    "                C = div(C + b, 2)\n",
    "                D = div(D - a, 2)\n",
    "            end\n",
    "        end\n",
    "        if u >= v\n",
    "            u -= v\n",
    "            A -= C\n",
    "            B -= D\n",
    "        else\n",
    "            v -= u\n",
    "            C -= A\n",
    "            D -= B\n",
    "        end\n",
    "    end\n",
    "    d = g * v\n",
    "    x = C\n",
    "    y = D\n",
    "    return d, x, y\n",
    "end\n",
    "println(euclidean_ext_bin(a,b))"
   ]
  },
  {
   "cell_type": "markdown",
   "metadata": {},
   "source": [
    "**Проверка**"
   ]
  },
  {
   "cell_type": "code",
   "execution_count": 6,
   "metadata": {},
   "outputs": [
    {
     "name": "stdout",
     "output_type": "stream",
     "text": [
      "512\n"
     ]
    }
   ],
   "source": [
    "d, x, y = euclidean_ext_bin(a,b)\n",
    "check = a*x+b*y \n",
    "println(check)"
   ]
  }
 ],
 "metadata": {
  "kernelspec": {
   "display_name": "Julia 1.10.5",
   "language": "julia",
   "name": "julia-1.10"
  },
  "language_info": {
   "file_extension": ".jl",
   "mimetype": "application/julia",
   "name": "julia",
   "version": "1.10.5"
  }
 },
 "nbformat": 4,
 "nbformat_minor": 2
}
