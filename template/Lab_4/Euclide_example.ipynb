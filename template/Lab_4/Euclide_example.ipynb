{
 "cells": [
  {
   "cell_type": "markdown",
   "metadata": {},
   "source": [
    "**Алгоритм Евклида** "
   ]
  },
  {
   "cell_type": "code",
   "execution_count": 29,
   "metadata": {},
   "outputs": [
    {
     "name": "stdout",
     "output_type": "stream",
     "text": [
      "3\n"
     ]
    }
   ],
   "source": [
    "a = int(input())\n",
    "b = int(input())\n",
    "if a < b:\n",
    "    a, b = b, a\n",
    "def euclidian_algorythm(a,b):\n",
    "    r_0 = a\n",
    "    r_1 = b\n",
    "    while True:\n",
    "        r_next= r_0 % r_1\n",
    "        if r_next == 0:\n",
    "            return r_1\n",
    "        r_0 = r_1\n",
    "        r_1 = r_next\n",
    "\n",
    "\n",
    "print(euclidian_algorythm(a,b))"
   ]
  },
  {
   "cell_type": "markdown",
   "metadata": {},
   "source": [
    "**Бинарный алгоритм Евклида**"
   ]
  },
  {
   "cell_type": "code",
   "execution_count": 33,
   "metadata": {},
   "outputs": [
    {
     "name": "stdout",
     "output_type": "stream",
     "text": [
      "143\n"
     ]
    }
   ],
   "source": [
    "# Бинарный алгоритм как в задании\n",
    "a = int(input())\n",
    "b = int(input())\n",
    "d = 0\n",
    "if a < b:\n",
    "    a, b = b, a\n",
    "def binary_euclide(a,b):\n",
    "    g = 1\n",
    "    while a%2==0 and b%2==0:\n",
    "        a = a//2\n",
    "        b = b//2\n",
    "        g= 2*g\n",
    "    u = a \n",
    "    v = b\n",
    "    while u!=0:\n",
    "        while u%2==0:\n",
    "            u = u//2\n",
    "        while v%2==0:\n",
    "            v = v//2\n",
    "        if u>=v:\n",
    "            u = u-v\n",
    "        else:\n",
    "            v = v-u\n",
    "    d = g*v\n",
    "    return d\n",
    "print(binary_euclide(a,b))"
   ]
  },
  {
   "cell_type": "markdown",
   "metadata": {},
   "source": [
    "**Расширенный алгоритм Евклида**"
   ]
  },
  {
   "cell_type": "code",
   "execution_count": 34,
   "metadata": {},
   "outputs": [
    {
     "name": "stdout",
     "output_type": "stream",
     "text": [
      "(7, -1083, 34368370493)\n"
     ]
    }
   ],
   "source": [
    "a = int(input())\n",
    "b = int(input())\n",
    "if a < b:\n",
    "    a, b = b, a\n",
    "def ext_euclide(a,b):\n",
    "    r_0 = a\n",
    "    r_1 = b\n",
    "    x_0=1\n",
    "    x_1=0\n",
    "    y_0=0\n",
    "    y_1=1\n",
    "    while r_1!=0:\n",
    "        q = r_0//r_1\n",
    "        r_next = r_0 - q*r_1\n",
    "        r_0=r_1\n",
    "        r_1 = r_next\n",
    "\n",
    "        x_next = x_0-q*x_1\n",
    "        x_0 = x_1\n",
    "        x_1 = x_next\n",
    "\n",
    "        y_next = y_0-q*y_1\n",
    "        y_0 = y_1\n",
    "        y_1 = y_next \n",
    "    d = r_0\n",
    "    x = x_0\n",
    "    y = y_0\n",
    "\n",
    "    return d,x,y\n",
    "print(ext_euclide(a,b))"
   ]
  },
  {
   "cell_type": "markdown",
   "metadata": {},
   "source": [
    "**Проверка**"
   ]
  },
  {
   "cell_type": "code",
   "execution_count": 35,
   "metadata": {},
   "outputs": [
    {
     "name": "stdout",
     "output_type": "stream",
     "text": [
      "7\n"
     ]
    }
   ],
   "source": [
    "d, x, y = ext_euclide(a,b)\n",
    "check = a*x+b*y\n",
    "print(check)"
   ]
  },
  {
   "cell_type": "markdown",
   "metadata": {},
   "source": [
    "**Расширенный бинарный алгоритм Евклида**"
   ]
  },
  {
   "cell_type": "code",
   "execution_count": 36,
   "metadata": {},
   "outputs": [
    {
     "name": "stdout",
     "output_type": "stream",
     "text": [
      "(1, 173, -3454570)\n"
     ]
    }
   ],
   "source": [
    "a = int(input())\n",
    "b = int(input())\n",
    "if a < b:\n",
    "    a, b = b, a\n",
    "def binary_euclide(a,b):\n",
    "    g = 1\n",
    "    while a%2==0 and b%2==0:\n",
    "        a = a//2\n",
    "        b = b//2\n",
    "        g= 2*g\n",
    "    u = a \n",
    "    v = b\n",
    "    A = 1\n",
    "    B = 0\n",
    "    C = 0\n",
    "    D = 1\n",
    "    while u!=0:\n",
    "        while u%2==0:\n",
    "            u = u//2\n",
    "            if A%2==0 and B%2==0:\n",
    "                A = A//2\n",
    "                B = B//2\n",
    "            else:\n",
    "                A = (A+b)//2\n",
    "                B = (B-a)//2\n",
    "        while v%2==0:\n",
    "            v = v//2\n",
    "            if C%2==0 and D%2==0:\n",
    "                C = C//2\n",
    "                D = D//2\n",
    "            else:\n",
    "                C = (C+b)//2\n",
    "                D = (D-a)//2\n",
    "        if u>=v:\n",
    "            u = u-v\n",
    "            A = A-C\n",
    "            B = B-D\n",
    "        else:\n",
    "            v = v-u\n",
    "            C = C - A\n",
    "            D = D - B\n",
    "    d = g*v\n",
    "    x = C\n",
    "    y = D\n",
    "    return d, x, y\n",
    "print(binary_euclide(a,b))"
   ]
  },
  {
   "cell_type": "code",
   "execution_count": 37,
   "metadata": {},
   "outputs": [
    {
     "name": "stdout",
     "output_type": "stream",
     "text": [
      "1\n"
     ]
    }
   ],
   "source": [
    "d, x, y = binary_euclide(a,b)\n",
    "check = a*x+b*y\n",
    "print(check)"
   ]
  }
 ],
 "metadata": {
  "kernelspec": {
   "display_name": "NewEnv",
   "language": "python",
   "name": "python3"
  },
  "language_info": {
   "codemirror_mode": {
    "name": "ipython",
    "version": 3
   },
   "file_extension": ".py",
   "mimetype": "text/x-python",
   "name": "python",
   "nbconvert_exporter": "python",
   "pygments_lexer": "ipython3",
   "version": "3.12.5"
  }
 },
 "nbformat": 4,
 "nbformat_minor": 2
}
